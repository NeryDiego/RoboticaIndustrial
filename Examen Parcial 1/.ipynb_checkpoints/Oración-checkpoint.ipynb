{
 "cells": [
  {
   "cell_type": "code",
   "execution_count": 62,
   "metadata": {},
   "outputs": [
    {
     "name": "stdout",
     "output_type": "stream",
     "text": [
      "i hope you didnt translate it by hand. thats what computers are for. doing it in by hand is inefficient and that's why this text is so long. using string.maketrans() is recommended.\n"
     ]
    }
   ],
   "source": [
    "abc = \"abcdefghijklmnopqrstuvwxyz\"\n",
    "oracion = \"g fmnc wms bgblr rpylqjyrc gr zw fylb. rfyrq ufyr amknsrcpq ypc dmp. bmgle gr gl zw fylb gq glcddgagclr ylb rfyr'q ufw rfgq rcvr gq qm jmle. sqgle qrpgle.kyicrpylq() gq pcamkkclbcb.\"\n",
    "list_resp = []\n",
    "t_abc = list(abc)\n",
    "t_oracion = list(oracion)\n",
    "s = 0\n",
    "p = 0\n",
    "x = 0\n",
    "y = 0\n",
    "\n",
    "for x in oracion:\n",
    "    s = s + 1\n",
    "    for y in abc:\n",
    "        p = p + 1\n",
    "        if x == y:\n",
    "            list_resp.insert(s,t_abc[p+1]) \n",
    "            p = 0\n",
    "            break;\n",
    "        if x == \" \":\n",
    "            list_resp.insert(s, \" \")\n",
    "            p = 0\n",
    "            break;\n",
    "        if x == \"y\":\n",
    "            list_resp.insert(s, t_abc[0])\n",
    "            p = 0\n",
    "            break;\n",
    "        if x == \"z\":\n",
    "            list_resp.insert(s, t_abc[1])\n",
    "            p = 0\n",
    "            break;\n",
    "        if x == \".\" or x == \"(\" or x == \")\" or x == \"'\":\n",
    "            list_resp.insert(s, x)\n",
    "            p = 0\n",
    "            break;\n",
    "\n",
    "respuesta = \"\".join(list_resp)\n",
    "print(respuesta)\n"
   ]
  },
  {
   "cell_type": "code",
   "execution_count": null,
   "metadata": {},
   "outputs": [],
   "source": []
  }
 ],
 "metadata": {
  "kernelspec": {
   "display_name": "Python 3",
   "language": "python",
   "name": "python3"
  },
  "language_info": {
   "codemirror_mode": {
    "name": "ipython",
    "version": 3
   },
   "file_extension": ".py",
   "mimetype": "text/x-python",
   "name": "python",
   "nbconvert_exporter": "python",
   "pygments_lexer": "ipython3",
   "version": "3.7.1"
  }
 },
 "nbformat": 4,
 "nbformat_minor": 2
}
