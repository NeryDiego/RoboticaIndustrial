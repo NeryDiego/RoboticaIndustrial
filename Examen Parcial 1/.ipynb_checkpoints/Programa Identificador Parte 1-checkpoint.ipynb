{
 "cells": [
  {
   "cell_type": "code",
   "execution_count": 2,
   "metadata": {},
   "outputs": [
    {
     "name": "stdout",
     "output_type": "stream",
     "text": [
      "{'Real': '678.32'}\n",
      "{'Entero': '1234'}\n",
      "{'ID': 'hola'}\n",
      "{'ID': 'mundo234'}\n",
      "{'Entero': '34'}\n",
      "{'OP': '+'}\n",
      "{'OP': '-'}\n"
     ]
    }
   ],
   "source": [
    "entrada_1 = \"678.32 1234 hola mundo234 34 + - \"\n",
    "arreglo = []\n",
    "lista_1 = []\n",
    "contador = 0;\n",
    "conteo = 0\n",
    "\n",
    "def Separador(arreglo, contador):\n",
    "    for x in range(len(entrada_1)):\n",
    "        lista_1.insert(x, entrada_1[x])\n",
    "        \n",
    "    space = 0\n",
    "    for x in range(contador,len(entrada_1)):\n",
    "        if entrada_1[x] != ' ':\n",
    "            arreglo.insert(space, entrada_1[x])\n",
    "            space += 1\n",
    "        else:\n",
    "            y = x + 1\n",
    "            break;      \n",
    "    return y\n",
    "\n",
    "def Identificador(arreglo):\n",
    "    \n",
    "    #REVISA ENTEROS Y REALES\n",
    "    if '1' <= arreglo[0] <= '9':\n",
    "        for x in range(0, len(arreglo)):  \n",
    "            if arreglo[x] == '.':\n",
    "                a = 1;\n",
    "                break;\n",
    "            else:\n",
    "                a = 0\n",
    "                \n",
    "        if a == 1:\n",
    "            Reales = \"\".join(arreglo)\n",
    "            dic_Real = dict([('Real', Reales)])\n",
    "            print(dic_Real)\n",
    "            a = 0\n",
    "        else:\n",
    "            Entero = \"\".join(arreglo)\n",
    "            dic_Entero = dict([('Entero', Entero)])\n",
    "            print(dic_Entero)\n",
    "            a = 0\n",
    "    \n",
    "    #REVISA ID'S\n",
    "    if 'a' <= arreglo[0] <= 'z':\n",
    "        for x in range(0, len(arreglo)):\n",
    "            ID = \"\".join(arreglo)\n",
    "            dic_ID = dict([('ID', ID)])\n",
    "        print(dic_ID)\n",
    "        \n",
    "    #REVISA OPERANDOS\n",
    "    if arreglo[0] == '+' or arreglo[0] == '-':\n",
    "        OP = \"\".join(arreglo)\n",
    "        dic_OP = dict([('OP', OP)])\n",
    "        print(dic_OP)\n",
    "\n",
    "while conteo < len(entrada_1):\n",
    "    conteo = Separador(arreglo, conteo)\n",
    "    Identificador(arreglo)\n",
    "    del arreglo[:]\n"
   ]
  },
  {
   "cell_type": "code",
   "execution_count": null,
   "metadata": {},
   "outputs": [],
   "source": []
  }
 ],
 "metadata": {
  "kernelspec": {
   "display_name": "Python 3",
   "language": "python",
   "name": "python3"
  },
  "language_info": {
   "codemirror_mode": {
    "name": "ipython",
    "version": 3
   },
   "file_extension": ".py",
   "mimetype": "text/x-python",
   "name": "python",
   "nbconvert_exporter": "python",
   "pygments_lexer": "ipython3",
   "version": "3.7.1"
  }
 },
 "nbformat": 4,
 "nbformat_minor": 2
}
