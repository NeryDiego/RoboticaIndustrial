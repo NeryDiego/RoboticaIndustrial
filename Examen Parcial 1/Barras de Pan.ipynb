{
 "cells": [
  {
   "cell_type": "code",
   "execution_count": 1,
   "metadata": {},
   "outputs": [],
   "source": [
    "from pulp import *"
   ]
  },
  {
   "cell_type": "code",
   "execution_count": 7,
   "metadata": {},
   "outputs": [],
   "source": [
    "mi_lp_problema=pulp.LpProblem(\"Mi LP Problema\", pulp.LpMinimize)\n",
    "\n",
    "xA1P1 = pulp.LpVariable('xA1P1', lowBound=0, cat='Continuous')\n",
    "xA1P2 = pulp.LpVariable('xA1P2', lowBound=0, cat='Continuous')\n",
    "xA1P3 = pulp.LpVariable('xA1P3', lowBound=0, cat='Continuous')\n",
    "xA2P1 = pulp.LpVariable('xA2P1', lowBound=0, cat='Continuous')\n",
    "xA2P2 = pulp.LpVariable('xA2P2', lowBound=0, cat='Continuous')\n",
    "xA2P3 = pulp.LpVariable('xA2P3', lowBound=0, cat='Continuous')\n",
    "\n",
    "\n",
    "#Objective function\n",
    "mi_lp_problema+=8*xA1P1 +6*xA1P2 +10*xA1P3 +10*xA2P1 +4*xA2P2 +9*xA2P3\n",
    "\n",
    "#Consraints\n",
    "mi_lp_problema += xA1P1 + xA1P2 + xA1P3 ==2000\n",
    "mi_lp_problema += xA2P1 + xA2P2 + xA2P3 ==2500\n",
    "mi_lp_problema += xA1P1 + xA2P1 ==1500\n",
    "mi_lp_problema += xA1P2 + xA2P2 ==2000\n",
    "mi_lp_problema += xA1P3 + xA2P3 ==1000\n",
    "mi_lp_problema += xA1P1>=0\n",
    "mi_lp_problema += xA1P2>=0\n",
    "mi_lp_problema += xA1P3>=0\n",
    "mi_lp_problema += xA2P1>=0\n",
    "mi_lp_problema += xA2P2>=0\n",
    "mi_lp_problema += xA2P3>=0"
   ]
  },
  {
   "cell_type": "code",
   "execution_count": 8,
   "metadata": {},
   "outputs": [
    {
     "data": {
      "text/plain": [
       "'Optimal'"
      ]
     },
     "execution_count": 8,
     "metadata": {},
     "output_type": "execute_result"
    }
   ],
   "source": [
    "mi_lp_problema.solve()\n",
    "pulp.LpStatus[mi_lp_problema.status]"
   ]
  },
  {
   "cell_type": "code",
   "execution_count": 9,
   "metadata": {},
   "outputs": [
    {
     "name": "stdout",
     "output_type": "stream",
     "text": [
      "xA1P1=1500.0\n",
      "xA1P2=0.0\n",
      "xA1P3=500.0\n",
      "xA2P1=0.0\n",
      "xA2P2=2000.0\n",
      "xA2P3=500.0\n"
     ]
    }
   ],
   "source": [
    "for variable in mi_lp_problema.variables():\n",
    "    print (\"{}={}\".format(variable.name, variable.varValue))"
   ]
  },
  {
   "cell_type": "code",
   "execution_count": null,
   "metadata": {},
   "outputs": [],
   "source": []
  }
 ],
 "metadata": {
  "kernelspec": {
   "display_name": "Python 3",
   "language": "python",
   "name": "python3"
  },
  "language_info": {
   "codemirror_mode": {
    "name": "ipython",
    "version": 3
   },
   "file_extension": ".py",
   "mimetype": "text/x-python",
   "name": "python",
   "nbconvert_exporter": "python",
   "pygments_lexer": "ipython3",
   "version": "3.7.1"
  }
 },
 "nbformat": 4,
 "nbformat_minor": 2
}
