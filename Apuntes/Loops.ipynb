{
 "cells": [
  {
   "cell_type": "markdown",
   "metadata": {},
   "source": [
    "# While"
   ]
  },
  {
   "cell_type": "code",
   "execution_count": null,
   "metadata": {},
   "outputs": [],
   "source": [
    "i = 1\n",
    "while i <= 2:\n",
    "    print(\"Programa Terminado!!!!\")\n",
    "    i += 1"
   ]
  },
  {
   "cell_type": "code",
   "execution_count": 4,
   "metadata": {},
   "outputs": [
    {
     "name": "stdout",
     "output_type": "stream",
     "text": [
      "10\n",
      "20\n",
      "30\n",
      "40\n",
      "50\n"
     ]
    }
   ],
   "source": [
    "condicion = True \n",
    "i = 10\n",
    "while condicion:\n",
    "    if i >= 50:\n",
    "        condicion = False\n",
    "    print(i)\n",
    "    i+=10"
   ]
  },
  {
   "cell_type": "code",
   "execution_count": 5,
   "metadata": {},
   "outputs": [
    {
     "name": "stdout",
     "output_type": "stream",
     "text": [
      "5\n",
      "15\n",
      "45\n",
      "135\n",
      "405\n"
     ]
    }
   ],
   "source": [
    "numero = 5\n",
    "while numero <= 500:\n",
    "    print(numero)\n",
    "    numero = numero*3"
   ]
  },
  {
   "cell_type": "code",
   "execution_count": 1,
   "metadata": {},
   "outputs": [
    {
     "name": "stdout",
     "output_type": "stream",
     "text": [
      "3\n",
      "5\n",
      "7\n",
      "9\n",
      "11\n",
      "13\n",
      "15\n",
      "17\n",
      "19\n",
      "21\n",
      "23\n",
      "25\n",
      "27\n",
      "29\n",
      "31\n",
      "33\n",
      "35\n",
      "37\n",
      "39\n",
      "41\n",
      "43\n",
      "45\n",
      "47\n",
      "49\n",
      "51\n",
      "53\n",
      "55\n",
      "57\n",
      "59\n",
      "61\n",
      "63\n",
      "65\n",
      "67\n",
      "69\n",
      "71\n",
      "73\n",
      "75\n",
      "77\n",
      "79\n",
      "81\n",
      "83\n",
      "85\n",
      "87\n",
      "89\n",
      "91\n",
      "93\n",
      "95\n",
      "97\n",
      "99\n",
      "101\n",
      "103\n",
      "105\n",
      "107\n",
      "109\n",
      "111\n",
      "113\n",
      "115\n",
      "117\n",
      "119\n",
      "121\n",
      "123\n",
      "125\n",
      "127\n",
      "129\n",
      "131\n",
      "133\n",
      "135\n",
      "137\n",
      "139\n",
      "141\n",
      "143\n",
      "145\n",
      "147\n",
      "149\n",
      "151\n",
      "153\n",
      "155\n",
      "157\n",
      "159\n",
      "161\n",
      "163\n",
      "165\n",
      "167\n",
      "169\n",
      "171\n",
      "173\n",
      "175\n",
      "177\n",
      "179\n",
      "181\n",
      "183\n",
      "185\n",
      "187\n",
      "189\n",
      "191\n",
      "193\n",
      "195\n",
      "197\n",
      "199\n"
     ]
    }
   ],
   "source": [
    "impar = 3\n",
    "while impar <= 200:\n",
    "    print(impar)\n",
    "    impar += 2\n"
   ]
  },
  {
   "cell_type": "code",
   "execution_count": 2,
   "metadata": {},
   "outputs": [
    {
     "name": "stdout",
     "output_type": "stream",
     "text": [
      "5\n",
      "2\n",
      "-1\n",
      "-4\n",
      "-7\n",
      "-10\n",
      "-13\n",
      "-16\n",
      "-19\n",
      "-22\n",
      "-25\n"
     ]
    }
   ],
   "source": [
    "x = 5\n",
    "while x >= -25:\n",
    "    print(x)\n",
    "    x -= 3"
   ]
  },
  {
   "cell_type": "markdown",
   "metadata": {},
   "source": [
    "# For"
   ]
  },
  {
   "cell_type": "code",
   "execution_count": 3,
   "metadata": {},
   "outputs": [
    {
     "name": "stdout",
     "output_type": "stream",
     "text": [
      "E E\n",
      "l l\n",
      "   \n",
      "q q\n",
      "u u\n",
      "e e\n",
      "   \n",
      "n n\n",
      "o o\n",
      "   \n",
      "t t\n",
      "r r\n",
      "a a\n",
      "n n\n",
      "z z\n",
      "a a\n",
      ", ,\n",
      "   \n",
      "n n\n",
      "o o\n",
      "   \n",
      "a a\n",
      "v v\n",
      "a a\n",
      "n n\n",
      "z z\n",
      "a a\n",
      "Programa Terminado\n"
     ]
    }
   ],
   "source": [
    "for i in \"El que no tranza, no avanza\":\n",
    "    print(i,i)\n",
    "print(\"Programa Terminado\")"
   ]
  },
  {
   "cell_type": "markdown",
   "metadata": {},
   "source": [
    "# El tipo Range"
   ]
  },
  {
   "cell_type": "code",
   "execution_count": 4,
   "metadata": {},
   "outputs": [
    {
     "name": "stdout",
     "output_type": "stream",
     "text": [
      "0\n",
      "1\n",
      "2\n",
      "3\n",
      "4\n",
      "5\n",
      "6\n",
      "7\n",
      "8\n",
      "9\n",
      "10\n",
      "11\n",
      "12\n",
      "13\n",
      "14\n",
      "15\n",
      "16\n",
      "17\n",
      "18\n",
      "19\n",
      "20\n",
      "21\n",
      "22\n",
      "23\n",
      "24\n",
      "25\n",
      "26\n",
      "27\n",
      "28\n",
      "29\n",
      "30\n",
      "31\n",
      "32\n",
      "33\n",
      "34\n",
      "35\n",
      "36\n",
      "37\n",
      "38\n",
      "39\n",
      "40\n",
      "41\n",
      "42\n",
      "43\n",
      "44\n",
      "45\n",
      "46\n",
      "47\n",
      "48\n",
      "49\n",
      "50\n",
      "51\n",
      "52\n",
      "53\n",
      "54\n",
      "55\n",
      "56\n",
      "57\n",
      "58\n",
      "59\n",
      "60\n",
      "61\n",
      "62\n",
      "63\n",
      "64\n",
      "65\n",
      "66\n",
      "67\n",
      "68\n",
      "69\n",
      "70\n",
      "71\n",
      "72\n",
      "73\n",
      "74\n",
      "75\n",
      "76\n",
      "77\n",
      "78\n",
      "79\n",
      "80\n",
      "81\n",
      "82\n",
      "83\n",
      "84\n",
      "85\n",
      "86\n",
      "87\n",
      "88\n",
      "89\n",
      "90\n",
      "91\n",
      "92\n",
      "93\n",
      "94\n",
      "95\n",
      "96\n",
      "97\n",
      "98\n",
      "99\n",
      "Programa Terminado\n"
     ]
    }
   ],
   "source": [
    "for i in range(100):\n",
    "    print(i)\n",
    "print(\"Programa Terminado\")"
   ]
  },
  {
   "cell_type": "code",
   "execution_count": 5,
   "metadata": {},
   "outputs": [],
   "source": [
    "range?"
   ]
  },
  {
   "cell_type": "code",
   "execution_count": 7,
   "metadata": {},
   "outputs": [
    {
     "name": "stdout",
     "output_type": "stream",
     "text": [
      "0\n",
      "2\n",
      "4\n",
      "6\n",
      "8\n",
      "Adios\n"
     ]
    }
   ],
   "source": [
    "for x in range(0,10,2):\n",
    "    print (x)\n",
    "print (\"Adios\")"
   ]
  },
  {
   "cell_type": "code",
   "execution_count": 8,
   "metadata": {},
   "outputs": [
    {
     "name": "stdout",
     "output_type": "stream",
     "text": [
      "[0, 3, 6, 9, 12]\n"
     ]
    }
   ],
   "source": [
    "lista = list(range(0,15,3))\n",
    "print(lista)"
   ]
  },
  {
   "cell_type": "code",
   "execution_count": 16,
   "metadata": {},
   "outputs": [
    {
     "name": "stdout",
     "output_type": "stream",
     "text": [
      "1\n",
      "Segundo i: 2\n",
      "Segundo i: 2\n",
      "Segundo i: 2\n",
      "2\n",
      "Segundo i: 3\n",
      "Segundo i: 3\n",
      "Segundo i: 3\n",
      "3\n",
      "Segundo i: 4\n",
      "Segundo i: 4\n",
      "Segundo i: 4\n",
      "4\n",
      "5\n",
      "Segundo i: 6\n",
      "Segundo i: 6\n",
      "Segundo i: 6\n",
      "6\n",
      "Segundo i: 7\n",
      "Segundo i: 7\n",
      "Segundo i: 7\n",
      "7\n",
      "Segundo i: 8\n",
      "Segundo i: 8\n",
      "Segundo i: 8\n",
      "8\n",
      "Segundo i: 9\n",
      "Segundo i: 9\n",
      "Segundo i: 9\n",
      "9\n",
      "Segundo i: 10\n",
      "Segundo i: 10\n",
      "Segundo i: 10\n",
      "10\n",
      "Segundo i: 11\n",
      "Segundo i: 11\n",
      "Segundo i: 11\n"
     ]
    }
   ],
   "source": [
    "i = 1\n",
    "while i <= 10:\n",
    "    print(i)\n",
    "    i += 1\n",
    "    if i == 5:\n",
    "        continue \n",
    "    print(\"Segundo i:\", i)\n",
    "    print(\"Segundo i:\", i)\n",
    "    print(\"Segundo i:\", i)"
   ]
  },
  {
   "cell_type": "markdown",
   "metadata": {},
   "source": [
    "# Números pseudoaletorios"
   ]
  },
  {
   "cell_type": "code",
   "execution_count": 17,
   "metadata": {},
   "outputs": [],
   "source": [
    "import random as ran"
   ]
  },
  {
   "cell_type": "code",
   "execution_count": 41,
   "metadata": {},
   "outputs": [
    {
     "name": "stdout",
     "output_type": "stream",
     "text": [
      "4\n"
     ]
    }
   ],
   "source": [
    "num_adivinar = ran.randint(1,6)\n",
    "print(num_adivinar)"
   ]
  },
  {
   "cell_type": "markdown",
   "metadata": {},
   "source": [
    "# Juego Aleatorio "
   ]
  },
  {
   "cell_type": "code",
   "execution_count": 2,
   "metadata": {},
   "outputs": [],
   "source": [
    "import random as ran"
   ]
  },
  {
   "cell_type": "code",
   "execution_count": 4,
   "metadata": {},
   "outputs": [
    {
     "name": "stdout",
     "output_type": "stream",
     "text": [
      "4\n",
      "¿Qué número estoy pensando? \n",
      "5\n",
      "ERROR!\n",
      "Intentos:  2\n",
      "¿Qué número estoy pensando? \n",
      "6\n",
      "ERROR!\n",
      "Intentos:  1\n",
      "¿Qué número estoy pensando? \n",
      "7\n",
      "ERROR!\n",
      "Intentos:  0\n",
      "Fin del Juego\n",
      "Valores introducidos [5, 6, 7]\n"
     ]
    }
   ],
   "source": [
    "import random as ran\n",
    "num_random = ran.randint(1,10)\n",
    "i = 3\n",
    "lista = []\n",
    "\n",
    "print(num_random)\n",
    "\n",
    "while i > 0: \n",
    "    respuesta = int(input(\"¿Qué número estoy pensando? \\n\"))\n",
    "    lista.append(respuesta)\n",
    "    if num_random != respuesta:\n",
    "        print(\"ERROR!\")\n",
    "        i -= 1\n",
    "        print (\"Intentos: \", i)\n",
    "    elif num_random ==  respuesta:\n",
    "        print(\"A huevo!!\")\n",
    "        i = 0\n",
    "\n",
    "print(\"Fin del Juego\")\n",
    "print(\"Valores introducidos\",lista)"
   ]
  },
  {
   "cell_type": "markdown",
   "metadata": {},
   "source": [
    "# Tuplas"
   ]
  },
  {
   "cell_type": "code",
   "execution_count": 1,
   "metadata": {},
   "outputs": [
    {
     "name": "stdout",
     "output_type": "stream",
     "text": [
      "100\n",
      "100\n"
     ]
    }
   ],
   "source": [
    "leche = \"Leche\"\n",
    "tupla_a = ('pan', leche, 100, 1234, True, 234.3)\n",
    "lista_a = ['pan', leche, 100, 1234, True, 234.3]\n",
    "print(tupla_a[2])\n",
    "print(lista_a[2])"
   ]
  },
  {
   "cell_type": "code",
   "execution_count": null,
   "metadata": {},
   "outputs": [],
   "source": []
  }
 ],
 "metadata": {
  "kernelspec": {
   "display_name": "Python 3",
   "language": "python",
   "name": "python3"
  },
  "language_info": {
   "codemirror_mode": {
    "name": "ipython",
    "version": 3
   },
   "file_extension": ".py",
   "mimetype": "text/x-python",
   "name": "python",
   "nbconvert_exporter": "python",
   "pygments_lexer": "ipython3",
   "version": "3.7.1"
  }
 },
 "nbformat": 4,
 "nbformat_minor": 2
}
