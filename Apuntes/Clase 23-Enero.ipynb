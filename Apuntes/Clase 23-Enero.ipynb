{
 "cells": [
  {
   "cell_type": "code",
   "execution_count": 1,
   "metadata": {},
   "outputs": [],
   "source": [
    "#Funciones\n",
    "def saludo():\n",
    "    print(\"Hola mundo\")\n",
    "    "
   ]
  },
  {
   "cell_type": "code",
   "execution_count": 2,
   "metadata": {},
   "outputs": [
    {
     "name": "stdout",
     "output_type": "stream",
     "text": [
      "Hola mundo\n"
     ]
    }
   ],
   "source": [
    "saludo()"
   ]
  },
  {
   "cell_type": "code",
   "execution_count": 6,
   "metadata": {},
   "outputs": [
    {
     "name": "stdout",
     "output_type": "stream",
     "text": [
      "100\n",
      "Hola Mundo\n"
     ]
    }
   ],
   "source": [
    "def suma(x,y):\n",
    "    print(x+y)\n",
    "suma(10,90)\n",
    "suma(\"Hola \", \"Mundo\")"
   ]
  },
  {
   "cell_type": "markdown",
   "metadata": {},
   "source": [
    "#  2 Parametro por Omisión"
   ]
  },
  {
   "cell_type": "code",
   "execution_count": 7,
   "metadata": {},
   "outputs": [
    {
     "name": "stdout",
     "output_type": "stream",
     "text": [
      "6.0\n",
      "27.5\n"
     ]
    }
   ],
   "source": [
    "def media (a, b=10):\n",
    "    media = (a+b)/2\n",
    "    print(media)\n",
    "media(2)\n",
    "media(5,50)"
   ]
  },
  {
   "cell_type": "code",
   "execution_count": 8,
   "metadata": {},
   "outputs": [
    {
     "data": {
      "text/plain": [
       "-5"
      ]
     },
     "execution_count": 8,
     "metadata": {},
     "output_type": "execute_result"
    }
   ],
   "source": [
    "def suma(a,b):\n",
    "    media = a-b\n",
    "    return media\n",
    "suma(5,10)"
   ]
  },
  {
   "cell_type": "code",
   "execution_count": 42,
   "metadata": {},
   "outputs": [
    {
     "data": {
      "text/plain": [
       "8.4"
      ]
     },
     "execution_count": 42,
     "metadata": {},
     "output_type": "execute_result"
    }
   ],
   "source": [
    "def suma_4 (a,b,c,d):\n",
    "    suma = a+b+c+d\n",
    "    return suma\n",
    "\n",
    "def square(a):\n",
    "    square = a*a\n",
    "    return square\n",
    "\n",
    "lista = [2,10,5,3,1]\n",
    "\n",
    "def media (cantidad, datos):\n",
    "    x = 0;\n",
    "    suma = 0\n",
    "    for x in datos:\n",
    "        suma = suma + x\n",
    "    media = suma/cantidad\n",
    "    #print(media)\n",
    "    return media\n",
    "    \n",
    "def var_est(cantidad, datos):\n",
    "    promedio = media(len(lista), lista)\n",
    "    x = 0;\n",
    "    suma = 0\n",
    "    for x in datos:\n",
    "        suma = suma + x\n",
    "    var_est = ((1/(cantidad-1))*(((suma-promedio)**2)))**(0.5)\n",
    "    return var_est\n",
    "    print(promedio)\n",
    "\n",
    "var_est(len(lista), lista)\n",
    "#media(len(lista),lista)\n",
    "#print(suma_4(9,7,29,35))\n",
    "#print(square(2))"
   ]
  },
  {
   "cell_type": "code",
   "execution_count": null,
   "metadata": {},
   "outputs": [],
   "source": []
  }
 ],
 "metadata": {
  "kernelspec": {
   "display_name": "Python 3",
   "language": "python",
   "name": "python3"
  },
  "language_info": {
   "codemirror_mode": {
    "name": "ipython",
    "version": 3
   },
   "file_extension": ".py",
   "mimetype": "text/x-python",
   "name": "python",
   "nbconvert_exporter": "python",
   "pygments_lexer": "ipython3",
   "version": "3.7.1"
  }
 },
 "nbformat": 4,
 "nbformat_minor": 2
}
