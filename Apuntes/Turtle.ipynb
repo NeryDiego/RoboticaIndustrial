{
 "cells": [
  {
   "cell_type": "code",
   "execution_count": 7,
   "metadata": {},
   "outputs": [],
   "source": [
    "from mobilechelonian import Turtle"
   ]
  },
  {
   "cell_type": "code",
   "execution_count": 34,
   "metadata": {},
   "outputs": [
    {
     "data": {
      "application/vnd.jupyter.widget-view+json": {
       "model_id": "545f7776cd2d4a2a932aad4d7983c1bf",
       "version_major": 2,
       "version_minor": 0
      },
      "text/plain": [
       "Turtle()"
      ]
     },
     "metadata": {},
     "output_type": "display_data"
    },
    {
     "data": {
      "text/plain": [
       "<bound method Turtle.home of Turtle(points=[{'p': 1, 'lc': 'black', 'x': 200, 'y': 200, 'b': 0, 's': 1}, {'p': 0, 'lc': 'black', 'x': 200, 'y': 200, 'b': -90, 's': 5}, {'p': 0, 'lc': 'black', 'x': 200.0, 'y': 20, 'b': 0, 's': 5}, {'p': 0, 'lc': 'black', 'x': 200.0, 'y': 20, 'b': 90, 's': 5}, {'p': 1, 'lc': 'red', 'x': 200.0, 'y': 20, 'b': 20, 's': 5}, {'p': 1, 'lc': 'red', 'x': 247.0, 'y': 37.1, 'b': 0, 's': 5}, {'p': 1, 'lc': 'blue', 'x': 247.0, 'y': 37.1, 'b': 20, 's': 5}, {'p': 1, 'lc': 'blue', 'x': 285.3, 'y': 69.2, 'b': 0, 's': 5}, {'p': 1, 'lc': 'yellow', 'x': 285.3, 'y': 69.2, 'b': 20, 's': 5}, {'p': 1, 'lc': 'yellow', 'x': 310.3, 'y': 112.5, 'b': 0, 's': 5}, {'p': 1, 'lc': 'black', 'x': 310.3, 'y': 112.5, 'b': 20, 's': 5}, {'p': 1, 'lc': 'black', 'x': 319.0, 'y': 161.7, 'b': 0, 's': 5}, {'p': 1, 'lc': 'green', 'x': 319.0, 'y': 161.7, 'b': 20, 's': 5}, {'p': 1, 'lc': 'green', 'x': 310.3, 'y': 210.89999999999998, 'b': 0, 's': 5}, {'p': 1, 'lc': 'red', 'x': 310.3, 'y': 210.89999999999998, 'b': 20, 's': 5}, {'p': 1, 'lc': 'red', 'x': 285.3, 'y': 254.2, 'b': 0, 's': 5}, {'p': 1, 'lc': 'blue', 'x': 285.3, 'y': 254.2, 'b': 20, 's': 5}, {'p': 1, 'lc': 'blue', 'x': 247.0, 'y': 286.3, 'b': 0, 's': 5}, {'p': 1, 'lc': 'yellow', 'x': 247.0, 'y': 286.3, 'b': 20, 's': 5}, {'p': 1, 'lc': 'yellow', 'x': 200.0, 'y': 303.40000000000003, 'b': 0, 's': 5}, {'p': 1, 'lc': 'black', 'x': 200.0, 'y': 303.40000000000003, 'b': 20, 's': 5}, {'p': 1, 'lc': 'black', 'x': 150.0, 'y': 303.40000000000003, 'b': 0, 's': 5}, {'p': 1, 'lc': 'green', 'x': 150.0, 'y': 303.40000000000003, 'b': 20, 's': 5}, {'p': 1, 'lc': 'green', 'x': 103.0, 'y': 286.3, 'b': 0, 's': 5}, {'p': 1, 'lc': 'red', 'x': 103.0, 'y': 286.3, 'b': 20, 's': 5}, {'p': 1, 'lc': 'red', 'x': 64.7, 'y': 254.20000000000002, 'b': 0, 's': 5}, {'p': 1, 'lc': 'blue', 'x': 64.7, 'y': 254.20000000000002, 'b': 20, 's': 5}, {'p': 1, 'lc': 'blue', 'x': 39.7, 'y': 210.90000000000003, 'b': 0, 's': 5}, {'p': 1, 'lc': 'yellow', 'x': 39.7, 'y': 210.90000000000003, 'b': 20, 's': 5}, {'p': 1, 'lc': 'yellow', 'x': 31.000000000000004, 'y': 161.70000000000005, 'b': 0, 's': 5}, {'p': 1, 'lc': 'black', 'x': 31.000000000000004, 'y': 161.70000000000005, 'b': 20, 's': 5}, {'p': 1, 'lc': 'black', 'x': 39.7, 'y': 112.50000000000004, 'b': 0, 's': 5}, {'p': 1, 'lc': 'green', 'x': 39.7, 'y': 112.50000000000004, 'b': 20, 's': 5}, {'p': 1, 'lc': 'green', 'x': 64.7, 'y': 69.20000000000005, 'b': 0, 's': 5}, {'p': 1, 'lc': 'red', 'x': 64.7, 'y': 69.20000000000005, 'b': 20, 's': 5}, {'p': 1, 'lc': 'red', 'x': 103.0, 'y': 37.100000000000044, 'b': 0, 's': 5}, {'p': 1, 'lc': 'blue', 'x': 103.0, 'y': 37.100000000000044, 'b': 20, 's': 5}, {'p': 1, 'lc': 'blue', 'x': 150.0, 'y': 20.000000000000043, 'b': 0, 's': 5}, {'p': 1, 'lc': 'yellow', 'x': 150.0, 'y': 20.000000000000043, 'b': 20, 's': 5}, {'p': 1, 'lc': 'yellow', 'x': 200.0, 'y': 20.000000000000043, 'b': 0, 's': 5}, {'p': 1, 'lc': 'yellow', 'x': 200.0, 'y': 20.000000000000043, 'b': 180, 's': 5}])>"
      ]
     },
     "execution_count": 34,
     "metadata": {},
     "output_type": "execute_result"
    }
   ],
   "source": [
    "t = Turtle()\n",
    "t.speed(5)\n",
    "colours = [\"red\", \"blue\", \"yellow\", \"black\", \"green\"]\n",
    "\n",
    "t.penup(); t.left(90); t.forward(200); t.right(90); t.pendown()\n",
    "\n",
    "for i in range(0,18):\n",
    "    t.pencolor(colours[i%5])\n",
    "    t.right(20)\n",
    "    t.forward(50)\n",
    "    \n",
    "t.right(180)\n",
    "t.home"
   ]
  },
  {
   "cell_type": "code",
   "execution_count": null,
   "metadata": {},
   "outputs": [],
   "source": []
  }
 ],
 "metadata": {
  "kernelspec": {
   "display_name": "Python 3",
   "language": "python",
   "name": "python3"
  },
  "language_info": {
   "codemirror_mode": {
    "name": "ipython",
    "version": 3
   },
   "file_extension": ".py",
   "mimetype": "text/x-python",
   "name": "python",
   "nbconvert_exporter": "python",
   "pygments_lexer": "ipython3",
   "version": "3.7.1"
  }
 },
 "nbformat": 4,
 "nbformat_minor": 2
}
