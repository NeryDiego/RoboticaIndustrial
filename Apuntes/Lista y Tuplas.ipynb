{
 "cells": [
  {
   "cell_type": "markdown",
   "metadata": {},
   "source": [
    "# Diseñar un programa que sume dos tuplas de números "
   ]
  },
  {
   "cell_type": "code",
   "execution_count": 22,
   "metadata": {},
   "outputs": [
    {
     "name": "stdout",
     "output_type": "stream",
     "text": [
      "(3, 30, 200, 2000)\n"
     ]
    }
   ],
   "source": [
    "tupla_a = (1,10,100,1000)\n",
    "tupla_b = (2,20,100,1000)\n",
    "list_c = []\n",
    "\n",
    "for x in range(len(tupla_a)):\n",
    "    list_c.insert(x,tupla_a[x] + tupla_b[x]) \n",
    "tupla_suma = tuple(list_c)\n",
    "print(tupla_suma)"
   ]
  },
  {
   "cell_type": "markdown",
   "metadata": {},
   "source": [
    "# Diseñar un programa que pida los valores de dos vectores, y realice el producto punto de estos vectores"
   ]
  },
  {
   "cell_type": "markdown",
   "metadata": {},
   "source": [
    "Producto punto de dos vectores \n",
    "vector1 = (u1, u2, u3)\n",
    "vector2 = (v1, v2, v3)\n",
    "u1*v1 + u2*v2 + u3*v3 "
   ]
  },
  {
   "cell_type": "code",
   "execution_count": 2,
   "metadata": {},
   "outputs": [
    {
     "name": "stdout",
     "output_type": "stream",
     "text": [
      "Dato  1\n",
      "Vector 1: 1\n",
      "Dato  2\n",
      "Vector 1: 5\n",
      "Dato  3\n",
      "Vector 1: 0\n",
      "Vector 1 =  [1.0, 5.0, 0.0]\n",
      "\n",
      "\n",
      "Dato  1\n",
      "Vector 2: 0\n",
      "Dato  2\n",
      "Vector 2: 2\n",
      "Dato  3\n",
      "Vector 2: 1\n",
      "Vector 2 =  [0.0, 2.0, 1.0]\n",
      "\n",
      "\n",
      "Producto punto =  10.0\n"
     ]
    }
   ],
   "source": [
    "vector1 = []\n",
    "vector2 = []\n",
    "prod_punto = []\n",
    "x = 0\n",
    "y = 0\n",
    "z = 0\n",
    "while x <= 2:\n",
    "    print(\"Dato \",x + 1)\n",
    "    vector1.insert(x, float(input(\"Vector 1: \")))\n",
    "    x += 1\n",
    "print(\"Vector 1 = \", vector1)\n",
    "print(\"\\n\")\n",
    "\n",
    "while y <= 2:\n",
    "    print(\"Dato \",y + 1)\n",
    "    vector2.insert(y, float(input(\"Vector 2: \")))\n",
    "    y += 1\n",
    "print(\"Vector 2 = \", vector2)\n",
    "print(\"\\n\")\n",
    "\n",
    "while z <= 2:\n",
    "    prod_punto.insert(z, vector1[z]*vector2[z])\n",
    "    z += 1\n",
    "respuesta = prod_punto[0] + prod_punto[1] + prod_punto[2]\n",
    "print(\"Producto punto = \", respuesta)\n"
   ]
  },
  {
   "cell_type": "markdown",
   "metadata": {},
   "source": [
    "#  Diseñar un programa que pida un nombre y cambie las vocales por números[Encriptación]. Utilizando diccionarios"
   ]
  },
  {
   "cell_type": "code",
   "execution_count": 24,
   "metadata": {},
   "outputs": [
    {
     "name": "stdout",
     "output_type": "stream",
     "text": [
      "Introduzca el nombre: Martinez\n",
      "{'Nombre': 'Martinez'}\n",
      "{'Encriptado: ': 'M 4 r t 1 n 3 z'}\n"
     ]
    }
   ],
   "source": [
    "dic_nombre = dict([('Nombre', input(\"Introduzca el nombre: \"))])\n",
    "print(dic_nombre)\n",
    "i = 0\n",
    "x = 0\n",
    "s = 0\n",
    "lista = []\n",
    "\n",
    "for i in dic_nombre.get('Nombre'):\n",
    "    if i == 'a' or i == 'A':\n",
    "        s = '4'\n",
    "    if i == 'e' or i == 'E':\n",
    "        s = '3'\n",
    "    if i == 'i' or i == 'I':\n",
    "        s = '1'\n",
    "    if i == 'o' or i == 'O':\n",
    "        s = '7'\n",
    "    if i == 'u' or i == 'U':\n",
    "        s = '9'\n",
    "    \n",
    "    if s != 0:\n",
    "        lista.insert(x, s)\n",
    "    else: \n",
    "        lista.insert(x, i)\n",
    "    x += 1\n",
    "    s = 0\n",
    "\n",
    "encryptado = \" \".join(lista)\n",
    "dic_encry = dict([(\"Encriptado: \", encryptado)])\n",
    "print(dic_encry)"
   ]
  },
  {
   "cell_type": "code",
   "execution_count": null,
   "metadata": {},
   "outputs": [],
   "source": []
  }
 ],
 "metadata": {
  "kernelspec": {
   "display_name": "Python 3",
   "language": "python",
   "name": "python3"
  },
  "language_info": {
   "codemirror_mode": {
    "name": "ipython",
    "version": 3
   },
   "file_extension": ".py",
   "mimetype": "text/x-python",
   "name": "python",
   "nbconvert_exporter": "python",
   "pygments_lexer": "ipython3",
   "version": "3.7.1"
  }
 },
 "nbformat": 4,
 "nbformat_minor": 2
}
