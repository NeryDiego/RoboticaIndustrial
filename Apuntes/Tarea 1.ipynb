{
 "cells": [
  {
   "cell_type": "markdown",
   "metadata": {},
   "source": [
    "# Tarea 1 Realice un concersor de divisas (Pesos a dólares)"
   ]
  },
  {
   "cell_type": "code",
   "execution_count": 3,
   "metadata": {},
   "outputs": [
    {
     "name": "stdout",
     "output_type": "stream",
     "text": [
      "1 - Dolares a Pesos\n",
      "2 - Pesos a Dolares2\n",
      "2.0\n",
      "Cantidad en Pesos:500\n",
      "26.5\n"
     ]
    }
   ],
   "source": [
    "respuesta = float(input(\"1 - Dolares a Pesos\\n2 - Pesos a Dolares\"))\n",
    "print(respuesta)\n",
    "\n",
    "if respuesta == 1:\n",
    "    cantidad1 = float(input(\"Cantidad en Dolares:\"))\n",
    "    dolares = float(cantidad1)\n",
    "    conversion1 = float(dolares*18.88)\n",
    "    print(float(conversion1))\n",
    "    \n",
    "elif respuesta == 2:\n",
    "    cantidad2 = input(\"Cantidad en Pesos:\")\n",
    "    pesos = float(cantidad2)\n",
    "    conversion2 = float(0.053*pesos)\n",
    "    print(float(conversion2))"
   ]
  },
  {
   "cell_type": "code",
   "execution_count": null,
   "metadata": {},
   "outputs": [],
   "source": []
  }
 ],
 "metadata": {
  "kernelspec": {
   "display_name": "Python 3",
   "language": "python",
   "name": "python3"
  },
  "language_info": {
   "codemirror_mode": {
    "name": "ipython",
    "version": 3
   },
   "file_extension": ".py",
   "mimetype": "text/x-python",
   "name": "python",
   "nbconvert_exporter": "python",
   "pygments_lexer": "ipython3",
   "version": "3.7.1"
  }
 },
 "nbformat": 4,
 "nbformat_minor": 2
}
