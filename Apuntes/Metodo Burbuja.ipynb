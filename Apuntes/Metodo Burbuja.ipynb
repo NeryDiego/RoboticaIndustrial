{
 "cells": [
  {
   "cell_type": "markdown",
   "metadata": {},
   "source": [
    "# Metodo Burbuja"
   ]
  },
  {
   "cell_type": "code",
   "execution_count": 20,
   "metadata": {},
   "outputs": [
    {
     "name": "stdout",
     "output_type": "stream",
     "text": [
      "11\n",
      "[1, 2, 3, 5, 100, 100, 150, 200, 405, 900, 3000]\n"
     ]
    }
   ],
   "source": [
    "lista = [100, 200, 150, 3000, 405, 900, 100, 5,3,2,1]\n",
    "change = 0\n",
    "print(len(lista))\n",
    "\n",
    "for i in range(len(lista)):\n",
    "    for j in range((len(lista) - 1)):\n",
    "       if lista[j] > lista[j+1]:\n",
    "            change = lista[j];\n",
    "            lista[j] = lista[j+1];\n",
    "            lista[j+1] = change;\n",
    "            \n",
    "print(lista)"
   ]
  },
  {
   "cell_type": "code",
   "execution_count": null,
   "metadata": {},
   "outputs": [],
   "source": []
  }
 ],
 "metadata": {
  "kernelspec": {
   "display_name": "Python 3",
   "language": "python",
   "name": "python3"
  },
  "language_info": {
   "codemirror_mode": {
    "name": "ipython",
    "version": 3
   },
   "file_extension": ".py",
   "mimetype": "text/x-python",
   "name": "python",
   "nbconvert_exporter": "python",
   "pygments_lexer": "ipython3",
   "version": "3.7.1"
  }
 },
 "nbformat": 4,
 "nbformat_minor": 2
}
